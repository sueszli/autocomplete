{
 "cells": [
  {
   "cell_type": "code",
   "execution_count": 1,
   "metadata": {},
   "outputs": [
    {
     "name": "stderr",
     "output_type": "stream",
     "text": [
      "/Users/sueszli/.asdf/installs/python/3.11.9/lib/python3.11/site-packages/torchtext/vocab/__init__.py:4: UserWarning: \n",
      "/!\\ IMPORTANT WARNING ABOUT TORCHTEXT STATUS /!\\ \n",
      "Torchtext is deprecated and the last released version will be 0.18 (this one). You can silence this warning by calling the following at the beginnign of your scripts: `import torchtext; torchtext.disable_torchtext_deprecation_warning()`\n",
      "  warnings.warn(torchtext._TORCHTEXT_DEPRECATION_MSG)\n",
      "/Users/sueszli/.asdf/installs/python/3.11.9/lib/python3.11/site-packages/torchtext/utils.py:4: UserWarning: \n",
      "/!\\ IMPORTANT WARNING ABOUT TORCHTEXT STATUS /!\\ \n",
      "Torchtext is deprecated and the last released version will be 0.18 (this one). You can silence this warning by calling the following at the beginnign of your scripts: `import torchtext; torchtext.disable_torchtext_deprecation_warning()`\n",
      "  warnings.warn(torchtext._TORCHTEXT_DEPRECATION_MSG)\n",
      "/Users/sueszli/.asdf/installs/python/3.11.9/lib/python3.11/site-packages/torchtext/data/__init__.py:4: UserWarning: \n",
      "/!\\ IMPORTANT WARNING ABOUT TORCHTEXT STATUS /!\\ \n",
      "Torchtext is deprecated and the last released version will be 0.18 (this one). You can silence this warning by calling the following at the beginnign of your scripts: `import torchtext; torchtext.disable_torchtext_deprecation_warning()`\n",
      "  warnings.warn(torchtext._TORCHTEXT_DEPRECATION_MSG)\n"
     ]
    }
   ],
   "source": [
    "import random\n",
    "from pathlib import Path\n",
    "import re\n",
    "import functools\n",
    "import operator\n",
    "import itertools\n",
    "from typing import List, Optional, Tuple\n",
    "import pandas as pd\n",
    "import numpy as np\n",
    "import matplotlib.pyplot as plt\n",
    "import seaborn as sns\n",
    "from tqdm import tqdm\n",
    "\n",
    "import torchtext\n",
    "import torchtext.vocab\n",
    "import torch\n",
    "import torch.nn as nn\n",
    "import torch.nn.functional as F\n",
    "from torch.nn.functional import one_hot\n",
    "from torchtext.data.utils import get_tokenizer\n",
    "from torch.utils.data import TensorDataset, DataLoader, random_split\n",
    "import torch.optim as optim\n",
    "\n",
    "import warnings\n",
    "warnings.filterwarnings(\"ignore\")\n",
    "torchtext.disable_torchtext_deprecation_warning()\n",
    "warnings.warn(torchtext._TORCHTEXT_DEPRECATION_MSG)\n",
    "\n",
    "seed = 42\n",
    "torch.manual_seed(seed)\n",
    "np.random.seed(seed)\n",
    "\n",
    "datapath = Path.cwd().parent / 'data' / 'fake_and_real_news_dataset.csv'\n",
    "\n",
    "\n",
    "def get_sentences(datapath: Path) -> pd.Series:\n",
    "    sentences = pd.read_csv(str(datapath))\n",
    "    sentences = sentences[\"title\"]\n",
    "    sentences = sentences.dropna()\n",
    "    sentences = sentences.apply(lambda x: re.sub('[^a-zA-Z]', ' ', x))\n",
    "    sentences = sentences.apply(lambda x: re.sub(r'\\b[b-hj-z]\\b', ' ', x)) # floating single letters except 'a', 'i'    \n",
    "    return sentences\n",
    "\n",
    "\n",
    "sentences = get_sentences(datapath)\n",
    "tokenizer = get_tokenizer('basic_english')\n",
    "tokenized_sentences = sentences.apply(tokenizer)\n",
    "\n",
    "features_vocab = torchtext.vocab.build_vocab_from_iterator(\n",
    "    tokenized_sentences,\n",
    "    min_freq=2, # minimum frequency of a word to be included in the vocabulary\n",
    "    specials=['<pad>', '<oov>'], # pad = padding, oov = out of vocabulary\n",
    "    special_first=True\n",
    ")\n",
    "target_vocab = torchtext.vocab.build_vocab_from_iterator(\n",
    "    tokenized_sentences,\n",
    "    min_freq=2\n",
    ")\n",
    "\n",
    "\n",
    "def get_ngram_encoding(tokenized_sentences: List[str]) -> Tuple[List[List[int]], List[int]]:\n",
    "    # get ngrams of tokenized sentences and encode them to vocabulary indices\n",
    "\n",
    "    def _get_ngrams(tokenized_sentence: List[str]) -> List[List[str]]:\n",
    "        # example: \"hello beautiful world\" -> [\"hello\", \"hello beautiful\", \"hello beautiful world\"]\n",
    "        list_ngrams = []\n",
    "        for i in range(1, len(tokenized_sentence)):\n",
    "            ngram_sequence = tokenized_sentence[:i+1]\n",
    "            list_ngrams.append(ngram_sequence)\n",
    "        return list_ngrams\n",
    "\n",
    "    def _insert_oovs(ngram: List[str]) -> List[str]:\n",
    "        # replace 10% of tokens with <oov> token to simulate the presence of out-of-vocabulary words    \n",
    "        for idx, _ in enumerate(ngram[:-1]):\n",
    "            if random.uniform(0, 1) < 0.1:\n",
    "                ngram[idx] = '<oov>'\n",
    "        return ngram\n",
    "\n",
    "    def _encode_to_vocab_idx(tokenized_sentence: List[str]) -> Optional[List[int]]:\n",
    "        # encode by replacing each token with its index in the vocabulary\n",
    "        tokens_list = []\n",
    "        if tokenized_sentence[-1] in target_vocab.get_itos(): # get_itos() = get index to string\n",
    "            for token in tokenized_sentence[:-1]:\n",
    "                num_token = features_vocab[token] if token in features_vocab.get_itos() else features_vocab['<oov>'] # features from features_vocab\n",
    "                tokens_list.append(num_token)\n",
    "            num_token = target_vocab[tokenized_sentence[-1]] # target (last token) from target_vocab\n",
    "            tokens_list.append(num_token)\n",
    "            return tokens_list\n",
    "        \n",
    "        # target token is not in the vocabulary\n",
    "        return None\n",
    "\n",
    "    flatmap = lambda f, items: functools.reduce(operator.iconcat, map(f, items), [])\n",
    "\n",
    "    ngrams_list = flatmap(_get_ngrams, tokenized_sentences)\n",
    "    ngrams_list_oov = list(map(_insert_oovs, ngrams_list))\n",
    "    input_sequences = list(filter(None, map(_encode_to_vocab_idx, ngrams_list_oov)))\n",
    "\n",
    "    X = [seq[:-1] for seq in input_sequences] # type: ignore\n",
    "    y = [seq[-1] for seq in input_sequences] # type: ignore\n",
    "    return X, y\n",
    "\n",
    "\n",
    "X, y = get_ngram_encoding(tokenized_sentences)\n",
    "longest_sequence_feature = max(len(x) for x in X)\n",
    "padded_X = [F.pad(torch.tensor(x), (longest_sequence_feature - len(x), 0), value=0) for x in X] # <--- try to shove this into encoder as well\n",
    "longest_sequence_feature_v2 = max(len(x) for x in X)\n",
    "\n",
    "print(f\"Longest sequence feature: {longest_sequence_feature}\")\n",
    "print(f\"Longest sequence feature v2: {longest_sequence_feature_v2}\")"
   ]
  },
  {
   "cell_type": "code",
   "execution_count": 2,
   "metadata": {},
   "outputs": [
    {
     "name": "stderr",
     "output_type": "stream",
     "text": [
      "  2%|▏         | 1/50 [00:08<06:46,  8.29s/it]"
     ]
    },
    {
     "name": "stdout",
     "output_type": "stream",
     "text": [
      "Epoch 0/50, Loss: 6.7502, Train K-Accuracy: 10.65%\n"
     ]
    },
    {
     "name": "stderr",
     "output_type": "stream",
     "text": [
      " 12%|█▏        | 6/50 [00:37<04:38,  6.33s/it]"
     ]
    },
    {
     "name": "stdout",
     "output_type": "stream",
     "text": [
      "Epoch 5/50, Loss: 6.6401, Train K-Accuracy: 24.09%\n"
     ]
    },
    {
     "name": "stderr",
     "output_type": "stream",
     "text": [
      " 22%|██▏       | 11/50 [01:06<04:03,  6.24s/it]"
     ]
    },
    {
     "name": "stdout",
     "output_type": "stream",
     "text": [
      "Epoch 10/50, Loss: 5.0055, Train K-Accuracy: 49.52%\n"
     ]
    },
    {
     "name": "stderr",
     "output_type": "stream",
     "text": [
      " 32%|███▏      | 16/50 [01:37<03:48,  6.73s/it]"
     ]
    },
    {
     "name": "stdout",
     "output_type": "stream",
     "text": [
      "Epoch 15/50, Loss: 3.7347, Train K-Accuracy: 67.73%\n"
     ]
    },
    {
     "name": "stderr",
     "output_type": "stream",
     "text": [
      " 42%|████▏     | 21/50 [02:09<03:17,  6.82s/it]"
     ]
    },
    {
     "name": "stdout",
     "output_type": "stream",
     "text": [
      "Epoch 20/50, Loss: 3.1401, Train K-Accuracy: 78.09%\n"
     ]
    },
    {
     "name": "stderr",
     "output_type": "stream",
     "text": [
      " 52%|█████▏    | 26/50 [02:40<02:49,  7.06s/it]"
     ]
    },
    {
     "name": "stdout",
     "output_type": "stream",
     "text": [
      "Epoch 25/50, Loss: 2.4343, Train K-Accuracy: 83.66%\n"
     ]
    },
    {
     "name": "stderr",
     "output_type": "stream",
     "text": [
      " 62%|██████▏   | 31/50 [03:14<02:22,  7.50s/it]"
     ]
    },
    {
     "name": "stdout",
     "output_type": "stream",
     "text": [
      "Epoch 30/50, Loss: 1.5598, Train K-Accuracy: 87.08%\n"
     ]
    },
    {
     "name": "stderr",
     "output_type": "stream",
     "text": [
      " 72%|███████▏  | 36/50 [03:46<01:41,  7.22s/it]"
     ]
    },
    {
     "name": "stdout",
     "output_type": "stream",
     "text": [
      "Epoch 35/50, Loss: 2.6170, Train K-Accuracy: 89.20%\n"
     ]
    },
    {
     "name": "stderr",
     "output_type": "stream",
     "text": [
      " 82%|████████▏ | 41/50 [04:20<01:04,  7.22s/it]"
     ]
    },
    {
     "name": "stdout",
     "output_type": "stream",
     "text": [
      "Epoch 40/50, Loss: 1.8536, Train K-Accuracy: 90.59%\n"
     ]
    },
    {
     "name": "stderr",
     "output_type": "stream",
     "text": [
      " 92%|█████████▏| 46/50 [04:53<00:28,  7.16s/it]"
     ]
    },
    {
     "name": "stdout",
     "output_type": "stream",
     "text": [
      "Epoch 45/50, Loss: 2.1824, Train K-Accuracy: 91.23%\n"
     ]
    },
    {
     "name": "stderr",
     "output_type": "stream",
     "text": [
      "100%|██████████| 50/50 [05:17<00:00,  6.35s/it]\n"
     ]
    }
   ],
   "source": [
    "class Autocompleter(nn.Module):\n",
    "    def __init__(self, features_vocab_total_words, target_vocab_total_words, embedding_dim, hidden_dim, dropout_prob):\n",
    "        super(Autocompleter, self).__init__()\n",
    "\n",
    "        self.embedding = nn.Embedding(features_vocab_total_words, embedding_dim)\n",
    "        self.lstm = nn.LSTM(embedding_dim, hidden_dim, batch_first=True)\n",
    "        self.dropout = nn.Dropout(dropout_prob)\n",
    "        self.fc = nn.Linear(hidden_dim, target_vocab_total_words)\n",
    "\n",
    "    def forward(self, x):\n",
    "        x = x.to(self.embedding.weight.device)\n",
    "        embedded = self.embedding(x) # convert indices to dense vectors\n",
    "        lstm_out, _ = self.lstm(embedded) # LSTM layer\n",
    "        lstm_out = self.dropout(lstm_out) # dropout layer: randomly zero out elements of the input tensor with probability p\n",
    "        output = self.fc(lstm_out[:, -1, :]) # fully connected layer: map the output of the LSTM layer to the output vocabulary\n",
    "        return output\n",
    "\n",
    "embedding_dim = longest_sequence_feature\n",
    "hidden_dim = 200\n",
    "epochs = 50\n",
    "dropout_prob = 0.5\n",
    "\n",
    "model = Autocompleter(len(features_vocab), len(target_vocab), embedding_dim=embedding_dim, hidden_dim=hidden_dim, dropout_prob=dropout_prob)\n",
    "criterion = nn.CrossEntropyLoss()\n",
    "optimizer = optim.Adam(model.parameters(), lr=0.0009)\n",
    "\n",
    "device = torch.device(\"cuda\" if torch.cuda.is_available() else \"mps\" if torch.backends.mps.is_available() else \"cpu\")\n",
    "model.to(device)\n",
    "\n",
    "\n",
    "\n",
    "\n",
    "\n",
    "def predict(model, data_loader, k=3):\n",
    "    # get top-k accuracy of the model on the given data\n",
    "    model.eval()\n",
    "    correct_predictions = 0\n",
    "    total_predictions = 0\n",
    "\n",
    "    with torch.no_grad():\n",
    "        for batch_x, batch_y in data_loader:\n",
    "            batch_x, batch_y = batch_x.to(device), batch_y.to(device)\n",
    "\n",
    "            # Forward pass\n",
    "            output = model(batch_x)\n",
    "\n",
    "            # Get top-k predictions\n",
    "            _, predicted_indices = output.topk(k, dim=1)\n",
    "\n",
    "            # Check if the correct label is in the top-k predictions\n",
    "            correct_predictions += torch.any(predicted_indices == torch.argmax(batch_y, dim=1, keepdim=True), dim=1).sum().item()\n",
    "            total_predictions += batch_y.size(0)\n",
    "\n",
    "    accuracy = correct_predictions / total_predictions\n",
    "    return accuracy\n",
    "\n",
    "\n",
    "\n",
    "\n",
    "padded_X = torch.stack(padded_X)\n",
    "y = torch.tensor(y)\n",
    "\n",
    "y_one_hot = one_hot(y, num_classes=len(target_vocab))\n",
    "\n",
    "data = TensorDataset(padded_X, y_one_hot)\n",
    "train_size = int(0.8 * len(data))\n",
    "test_size = len(data) - train_size\n",
    "batch_size = 32\n",
    "train_data, test_data = random_split(data, [train_size, test_size])\n",
    "train_loader = DataLoader(train_data, batch_size=batch_size, shuffle=True)\n",
    "test_loader = DataLoader(test_data, batch_size=batch_size, shuffle=False)\n",
    "\n",
    "\n",
    "all_accuracies = []\n",
    "all_losses = []\n",
    "for epoch in tqdm(range(epochs)):\n",
    "    model.train()\n",
    "    for batch_X, batch_y in train_loader:\n",
    "        batch_X, batch_y = batch_X.to(device), batch_y.to(device)\n",
    "        optimizer.zero_grad()\n",
    "        outputs = model(batch_X)\n",
    "        loss = criterion(outputs, batch_y.argmax(dim=1))\n",
    "        loss.backward()\n",
    "        optimizer.step()\n",
    "            \n",
    "    if epoch % 5 == 0:\n",
    "        accuracy = predict(model, train_loader)\n",
    "        print(f'Epoch {epoch}/{epochs}, Loss: {loss.item():.4f}, Train K-Accuracy: {accuracy * 100:.2f}%')\n",
    "        all_accuracies.append(accuracy)\n",
    "        all_losses.append(loss.item())\n"
   ]
  },
  {
   "cell_type": "markdown",
   "metadata": {},
   "source": [
    "# benchmark"
   ]
  },
  {
   "cell_type": "code",
   "execution_count": 3,
   "metadata": {},
   "outputs": [
    {
     "data": {
      "image/png": "[encoded data removed]",
      "text/plain": [
       "<Figure size 800x400 with 2 Axes>"
      ]
     },
     "metadata": {},
     "output_type": "display_data"
    }
   ],
   "source": [
    "epoch_list = [i for i in range(1,epochs,5)]\n",
    "\n",
    "fig, axes = plt.subplots(nrows=1, ncols=2, figsize=(8, 4)) \n",
    "\n",
    "axes[0].plot(epoch_list, all_accuracies, color='#5a7da9', label='Accuracy', linewidth=3)\n",
    "axes[0].set_xlabel('Epochs')\n",
    "axes[0].set_ylabel('Accuracy')\n",
    "axes[0].set_title('Accuracy Graph')\n",
    "axes[0].grid(True)\n",
    " \n",
    "axes[1].plot(epoch_list, all_losses, color='#adad3b', label='Accuracy', linewidth=3)\n",
    "axes[1].set_xlabel('Epochs')\n",
    "axes[1].set_ylabel('Loss')\n",
    "axes[1].set_title('Loss Graph')\n",
    "axes[1].grid(True)\n",
    "\n",
    "plt.tight_layout()\n",
    "plt.show()\n"
   ]
  },
  {
   "cell_type": "code",
   "execution_count": 4,
   "metadata": {},
   "outputs": [
    {
     "name": "stdout",
     "output_type": "stream",
     "text": [
      "Test K-Accuracy: 16.60%\n"
     ]
    }
   ],
   "source": [
    "accuracy = predict(model, test_loader)\n",
    "print(f'Test K-Accuracy: {accuracy * 100:.2f}%')"
   ]
  },
  {
   "cell_type": "code",
   "execution_count": 5,
   "metadata": {},
   "outputs": [
    {
     "data": {
      "text/plain": [
       "['why trump is a risk for the election because of a moscow beijing holds drills video percentfedup com my future',\n",
       " 'trump and sanders win the vote for the election year in',\n",
       " 'this is why the republican party',\n",
       " '6 ways to eat with',\n",
       " 'you did a warning being college with it a man who and the']"
      ]
     },
     "execution_count": 5,
     "metadata": {},
     "output_type": "execute_result"
    }
   ],
   "source": [
    "def text_to_numerical_sequence_test(tokenized_text):\n",
    "    tokens_list = []\n",
    "    for token in tokenized_text:\n",
    "        num_token = features_vocab[token] if token in features_vocab.get_itos() else features_vocab['<oov>']\n",
    "        tokens_list.append(num_token)\n",
    "    return tokens_list\n",
    "\n",
    "\n",
    "def use_model(input_list):\n",
    "    model.eval()\n",
    "    \n",
    "    output_list = []\n",
    "    for data in input_list:\n",
    "        sentence = data[0]\n",
    "        num_words = data[1]\n",
    "        for _ in range(num_words):\n",
    "            output_of_model = []\n",
    "            tokenized_input_test = tokenizer(sentence)\n",
    "            tokenized_sequence_input_test = text_to_numerical_sequence_test(tokenized_input_test)\n",
    "            padded_tokenized_sequence_input_test = F.pad(torch.tensor(tokenized_sequence_input_test), (longest_sequence_feature - len(tokenized_sequence_input_test)-1, 0), value=0)\n",
    "            output_test_walking = torch.argmax(model(padded_tokenized_sequence_input_test.unsqueeze(0)))\n",
    "            sentence = sentence + ' ' + target_vocab.lookup_token(output_test_walking.item()) # type: ignore\n",
    "        output_list.append(sentence)\n",
    "    return output_list\n",
    "\n",
    "input_test = [['why', 19], ['trump', 10], ['this is', 4], ['6 ways', 3], ['you did a', 10]]\n",
    "outputs_model = use_model(input_test)\n",
    "outputs_model"
   ]
  },
  {
   "cell_type": "code",
   "execution_count": null,
   "metadata": {},
   "outputs": [],
   "source": []
  }
 ],
 "metadata": {
  "kernelspec": {
   "display_name": "Python 3",
   "language": "python",
   "name": "python3"
  },
  "language_info": {
   "codemirror_mode": {
    "name": "ipython",
    "version": 3
   },
   "file_extension": ".py",
   "mimetype": "text/x-python",
   "name": "python",
   "nbconvert_exporter": "python",
   "pygments_lexer": "ipython3",
   "version": "3.11.9"
  }
 },
 "nbformat": 4,
 "nbformat_minor": 2
}
