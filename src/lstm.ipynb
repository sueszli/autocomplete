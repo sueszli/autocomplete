{
 "cells": [
  {
   "cell_type": "code",
   "execution_count": 16,
   "metadata": {},
   "outputs": [
    {
     "name": "stdout",
     "output_type": "stream",
     "text": [
      "len(features_vocab)=3917, len(target_vocab)=3915, features_vocab['<pad>']=0, features_vocab['<oov>']=1\n"
     ]
    },
    {
     "data": {
      "text/plain": [
       "(40,\n",
       " tensor([0, 0, 0, 0, 0, 0, 0, 0, 0, 0, 0, 0, 0, 0, 0, 0, 0, 0, 0, 0, 0, 0, 0, 0,\n",
       "         0, 0, 0, 0, 0, 0, 0, 0, 0, 0, 0, 0, 0, 0, 0, 9]),\n",
       " [9],\n",
       " 40)"
      ]
     },
     "execution_count": 16,
     "metadata": {},
     "output_type": "execute_result"
    }
   ],
   "source": [
    "import random\n",
    "from pathlib import Path\n",
    "import re\n",
    "import pandas as pd\n",
    "import numpy as np\n",
    "import matplotlib.pyplot as plt\n",
    "import seaborn as sns\n",
    "from tqdm import tqdm\n",
    "\n",
    "import torchtext\n",
    "import torchtext.vocab\n",
    "import torch\n",
    "import torch.nn as nn\n",
    "import torch.nn.functional as F\n",
    "from torch.nn.functional import one_hot\n",
    "from torchtext.data.utils import get_tokenizer\n",
    "from torch.utils.data import TensorDataset, DataLoader, random_split\n",
    "import torch.optim as optim\n",
    "\n",
    "import warnings\n",
    "warnings.filterwarnings(\"ignore\")\n",
    "torchtext.disable_torchtext_deprecation_warning()\n",
    "warnings.warn(torchtext._TORCHTEXT_DEPRECATION_MSG)\n",
    "\n",
    "seed = 42\n",
    "torch.manual_seed(seed)\n",
    "np.random.seed(seed)\n",
    "\n",
    "filename = 'fake_and_real_news_dataset.csv'\n",
    "datapath = Path.cwd().parent / 'data' / filename\n",
    "sentences = pd.read_csv(str(datapath))\n",
    "\n",
    "sentences = sentences[\"title\"]\n",
    "sentences = sentences.dropna()\n",
    "sentences = sentences.apply(lambda x: re.sub('[^a-zA-Z]', ' ', x))\n",
    "sentences = sentences.apply(lambda x: re.sub(r'\\b[b-hj-z]\\b', ' ', x)) # floating single letters except 'a', 'i'\n",
    "\n",
    "tokenizer = get_tokenizer('basic_english')\n",
    "tokenized_sentences = [tokenizer(s) for s in sentences]\n",
    "\n",
    "features_vocab = torchtext.vocab.build_vocab_from_iterator(\n",
    "    tokenized_sentences,\n",
    "    min_freq=2, # minimum frequency of a word to be included in the vocabulary\n",
    "    specials=['<pad>', '<oov>'], # pad = padding, oov = out of vocabulary\n",
    "    special_first=True\n",
    ")\n",
    "target_vocab = torchtext.vocab.build_vocab_from_iterator(\n",
    "    tokenized_sentences,\n",
    "    min_freq=2\n",
    ")\n",
    "print(f\"{len(features_vocab)=}, {len(target_vocab)=}, {features_vocab['<pad>']=}, {features_vocab['<oov>']=}\")\n",
    "\n",
    "\n",
    "def get_ngrams(tokenized_sentence):\n",
    "    \"\"\"\n",
    "    ngrams: \"hello beautiful world\" -> [\"hello\", \"hello beautiful\", \"hello beautiful world\"]\n",
    "    \"\"\"\n",
    "    list_ngrams = []\n",
    "    for i in range(1, len(tokenized_sentence)):\n",
    "        ngram_sequence = tokenized_sentence[:i+1]\n",
    "        list_ngrams.append(ngram_sequence)\n",
    "    return list_ngrams\n",
    "\n",
    "def add_random_oov_tokens(ngram):\n",
    "    \"\"\"\n",
    "    replace tokens in ngram with <oov> with 10% probability\n",
    "    to improve generalizability of the model\n",
    "    \"\"\"\n",
    "    for idx, _ in enumerate(ngram[:-1]):\n",
    "        if random.uniform(0, 1) < 0.1:\n",
    "            ngram[idx] = '<oov>'\n",
    "    return ngram\n",
    "\n",
    "def text_to_numerical_sequence(tokenized_sentence):\n",
    "    \"\"\"\n",
    "    map string tokens to numerical tokens\n",
    "    \"\"\"\n",
    "    tokens_list = []\n",
    "    if tokenized_sentence[-1] in target_vocab.get_itos(): # get_itos() = get index to string\n",
    "        for token in tokenized_sentence[:-1]:\n",
    "            num_token = features_vocab[token] if token in features_vocab.get_itos() else features_vocab['<oov>']\n",
    "            tokens_list.append(num_token)\n",
    "        num_token = target_vocab[tokenized_sentence[-1]]\n",
    "        tokens_list.append(num_token)\n",
    "        return tokens_list\n",
    "    return None\n",
    "\n",
    "ngrams_list = []\n",
    "for tokenized_sentence in tokenized_sentences:\n",
    "    ngrams_list.extend(get_ngrams(tokenized_sentence))\n",
    "\n",
    "ngrams_list_oov = []\n",
    "for ngram in ngrams_list:\n",
    "    ngrams_list_oov.append(add_random_oov_tokens(ngram))\n",
    "\n",
    "input_sequences = [text_to_numerical_sequence(sequence) for sequence in ngrams_list_oov if text_to_numerical_sequence(sequence)]\n",
    "\n",
    "\n",
    "X = [sequence[:-1] for sequence in input_sequences] # type: ignore\n",
    "y = [sequence[-1] for sequence in input_sequences] # type: ignore\n",
    "\n",
    "\n",
    "longest_sequence_feature = max(len(sequence) for sequence in X)\n",
    "padded_X = [F.pad(torch.tensor(sequence), (longest_sequence_feature - len(sequence), 0), value=0) for sequence in X]\n",
    "\n",
    "longest_sequence_feature, padded_X[0], X[0], len(padded_X[0])"
   ]
  },
  {
   "cell_type": "code",
   "execution_count": 17,
   "metadata": {},
   "outputs": [
    {
     "name": "stderr",
     "output_type": "stream",
     "text": [
      "100%|██████████| 50/50 [05:14<00:00,  6.29s/it]\n"
     ]
    }
   ],
   "source": [
    "padded_X = torch.stack(padded_X)\n",
    "y = torch.tensor(y)\n",
    "\n",
    "y_one_hot = one_hot(y, num_classes=len(target_vocab))\n",
    "\n",
    "data = TensorDataset(padded_X, y_one_hot)\n",
    "train_size = int(0.8 * len(data))\n",
    "test_size = len(data) - train_size\n",
    "batch_size = 32\n",
    "train_data, test_data = random_split(data, [train_size, test_size])\n",
    "train_loader = DataLoader(train_data, batch_size=batch_size, shuffle=True)\n",
    "test_loader = DataLoader(test_data, batch_size=batch_size, shuffle=False)\n",
    "\n",
    "\n",
    "class My_LSTM(nn.Module):\n",
    "    def __init__(self, features_vocab_total_words, target_vocab_total_words, embedding_dim, hidden_dim):\n",
    "        super(My_LSTM, self).__init__()\n",
    "        self.embedding = nn.Embedding(features_vocab_total_words, embedding_dim)\n",
    "        self.lstm = nn.LSTM(embedding_dim, hidden_dim, batch_first=True) \n",
    "        self.dropout = nn.Dropout(0.5)\n",
    "        self.fc = nn.Linear(hidden_dim, target_vocab_total_words)\n",
    "\n",
    "    def forward(self, x):\n",
    "        x = x.to(self.embedding.weight.device)\n",
    "        embedded = self.embedding(x)\n",
    "        lstm_out, _ = self.lstm(embedded)\n",
    "        lstm_out = self.dropout(lstm_out)\n",
    "        output = self.fc(lstm_out[:, -1, :])\n",
    "        return output\n",
    "\n",
    "\n",
    "embedding_dim = longest_sequence_feature\n",
    "hidden_dim = 200\n",
    "epochs = 50\n",
    "model = My_LSTM(len(features_vocab), len(target_vocab), embedding_dim=embedding_dim, hidden_dim=hidden_dim)\n",
    "criterion = nn.CrossEntropyLoss()\n",
    "optimizer = optim.Adam(model.parameters(), lr=0.0009)\n",
    "device = torch.device(\"cuda\" if torch.cuda.is_available() else \"mps\" if torch.backends.mps.is_available() else \"cpu\")\n",
    "model.to(device)\n",
    "\n",
    "\n",
    "def calculate_topk_accuracy(model, data_loader, k=3):\n",
    "    model.eval()\n",
    "    correct_predictions = 0\n",
    "    total_predictions = 0\n",
    "\n",
    "    with torch.no_grad():\n",
    "        for batch_x, batch_y in data_loader:\n",
    "            batch_x, batch_y = batch_x.to(device), batch_y.to(device)\n",
    "\n",
    "            # Forward pass\n",
    "            output = model(batch_x)\n",
    "\n",
    "            # Get top-k predictions\n",
    "            _, predicted_indices = output.topk(k, dim=1)\n",
    "\n",
    "            # Check if the correct label is in the top-k predictions\n",
    "            correct_predictions += torch.any(predicted_indices == torch.argmax(batch_y, dim=1, keepdim=True), dim=1).sum().item()\n",
    "            total_predictions += batch_y.size(0)\n",
    "\n",
    "    accuracy = correct_predictions / total_predictions\n",
    "    return accuracy\n",
    "\n",
    "\n",
    "all_accuracies = []\n",
    "all_losses = []\n",
    "for epoch in tqdm(range(epochs)):\n",
    "    model.train()\n",
    "    for batch_X, batch_y in train_loader:\n",
    "        batch_X, batch_y = batch_X.to(device), batch_y.to(device)\n",
    "        optimizer.zero_grad()\n",
    "        outputs = model(batch_X)\n",
    "        loss = criterion(outputs, batch_y.argmax(dim=1))\n",
    "        loss.backward()\n",
    "        optimizer.step()\n",
    "            \n",
    "    if epoch % 5 == 0:\n",
    "        accuracy = calculate_topk_accuracy(model, train_loader)\n",
    "        # print(f'Epoch {epoch}/{epochs}, Loss: {loss.item():.4f}, Train K-Accuracy: {accuracy * 100:.2f}%')\n",
    "        all_accuracies.append(accuracy)\n",
    "        all_losses.append(loss.item())\n"
   ]
  },
  {
   "cell_type": "markdown",
   "metadata": {},
   "source": [
    "# benchmark"
   ]
  },
  {
   "cell_type": "code",
   "execution_count": 18,
   "metadata": {},
   "outputs": [
    {
     "data": {
      "image/png": "[encoded data removed]",
      "text/plain": [
       "<Figure size 800x400 with 2 Axes>"
      ]
     },
     "metadata": {},
     "output_type": "display_data"
    }
   ],
   "source": [
    "epoch_list = [i for i in range(1,epochs,5)]\n",
    "\n",
    "fig, axes = plt.subplots(nrows=1, ncols=2, figsize=(8, 4)) \n",
    "\n",
    "axes[0].plot(epoch_list, all_accuracies, color='#5a7da9', label='Accuracy', linewidth=3)\n",
    "axes[0].set_xlabel('Epochs')\n",
    "axes[0].set_ylabel('Accuracy')\n",
    "axes[0].set_title('Accuracy Graph')\n",
    "axes[0].grid(True)\n",
    " \n",
    "axes[1].plot(epoch_list, all_losses, color='#adad3b', label='Accuracy', linewidth=3)\n",
    "axes[1].set_xlabel('Epochs')\n",
    "axes[1].set_ylabel('Loss')\n",
    "axes[1].set_title('Loss Graph')\n",
    "axes[1].grid(True)\n",
    "\n",
    "plt.tight_layout()\n",
    "plt.show()\n"
   ]
  },
  {
   "cell_type": "code",
   "execution_count": 19,
   "metadata": {},
   "outputs": [
    {
     "name": "stdout",
     "output_type": "stream",
     "text": [
      "Test K-Accuracy: 16.57%\n"
     ]
    }
   ],
   "source": [
    "accuracy = calculate_topk_accuracy(model, test_loader)\n",
    "print(f'Test K-Accuracy: {accuracy * 100:.2f}%')"
   ]
  },
  {
   "cell_type": "code",
   "execution_count": 21,
   "metadata": {},
   "outputs": [
    {
     "data": {
      "text/plain": [
       "['stand of the union debate factcheck',\n",
       " 'deep learning is so hard that hillary clinton',\n",
       " 'data cleaning the full blame game',\n",
       " '6 ways to the supreme court',\n",
       " 'you did a need to']"
      ]
     },
     "execution_count": 21,
     "metadata": {},
     "output_type": "execute_result"
    }
   ],
   "source": [
    "def text_to_numerical_sequence_test(tokenized_text):\n",
    "    tokens_list = []\n",
    "    for token in tokenized_text:\n",
    "        num_token = features_vocab[token] if token in features_vocab.get_itos() else features_vocab['<oov>']\n",
    "        tokens_list.append(num_token)\n",
    "    return tokens_list\n",
    "\n",
    "def use_model(input_list):\n",
    "    model.eval()\n",
    "    output_list = []\n",
    "    for data in input_list:\n",
    "        sentence = data[0]\n",
    "        num_words = data[1]\n",
    "        for _ in range(num_words):\n",
    "            output_of_model = []\n",
    "            tokenized_input_test = tokenizer(sentence)\n",
    "            tokenized_sequence_input_test = text_to_numerical_sequence_test(tokenized_input_test)\n",
    "            padded_tokenized_sequence_input_test = F.pad(torch.tensor(tokenized_sequence_input_test), (longest_sequence_feature - len(tokenized_sequence_input_test)-1, 0), value=0)\n",
    "            output_test_walking = torch.argmax(model(padded_tokenized_sequence_input_test.unsqueeze(0)))\n",
    "            sentence = sentence + ' ' + target_vocab.lookup_token(output_test_walking.item()) # type: ignore\n",
    "        output_list.append(sentence)\n",
    "    return output_list\n",
    "\n",
    "input_test = [['stand', 5], ['deep learning is', 5], ['data cleaning', 4], ['6 ways', 4], ['you did a', 2]]\n",
    "outputs_model = use_model(input_test)\n",
    "outputs_model\n"
   ]
  },
  {
   "cell_type": "code",
   "execution_count": null,
   "metadata": {},
   "outputs": [],
   "source": []
  }
 ],
 "metadata": {
  "kernelspec": {
   "display_name": "Python 3",
   "language": "python",
   "name": "python3"
  },
  "language_info": {
   "codemirror_mode": {
    "name": "ipython",
    "version": 3
   },
   "file_extension": ".py",
   "mimetype": "text/x-python",
   "name": "python",
   "nbconvert_exporter": "python",
   "pygments_lexer": "ipython3",
   "version": "3.11.9"
  }
 },
 "nbformat": 4,
 "nbformat_minor": 2
}
