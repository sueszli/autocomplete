{
 "cells": [
  {
   "cell_type": "code",
   "execution_count": 14,
   "metadata": {},
   "outputs": [
    {
     "name": "stdout",
     "output_type": "stream",
     "text": [
      "encoded dataset: X.shape=torch.Size([38531, 40]), y.shape=torch.Size([38531])\n"
     ]
    }
   ],
   "source": [
    "import random\n",
    "from pathlib import Path\n",
    "import re\n",
    "import functools\n",
    "import operator\n",
    "import itertools\n",
    "from typing import List, Optional, Tuple\n",
    "import pandas as pd\n",
    "import numpy as np\n",
    "import matplotlib.pyplot as plt\n",
    "import seaborn as sns\n",
    "from tqdm import tqdm\n",
    "\n",
    "import torchtext\n",
    "import torchtext.vocab\n",
    "import torch\n",
    "import torch.nn as nn\n",
    "import torch.nn.functional as F\n",
    "from torch.nn.functional import one_hot\n",
    "from torchtext.data.utils import get_tokenizer\n",
    "from torch.utils.data import TensorDataset, DataLoader, random_split\n",
    "import torch.optim as optim\n",
    "device = torch.device(\"cuda\" if torch.cuda.is_available() else \"mps\" if torch.backends.mps.is_available() else \"cpu\")\n",
    "\n",
    "import warnings\n",
    "warnings.filterwarnings(\"ignore\")\n",
    "torchtext.disable_torchtext_deprecation_warning()\n",
    "warnings.warn(torchtext._TORCHTEXT_DEPRECATION_MSG)\n",
    "\n",
    "seed = 42\n",
    "torch.manual_seed(seed)\n",
    "np.random.seed(seed)\n",
    "\n",
    "datapath = Path.cwd().parent / 'data' / 'fake_and_real_news_dataset.csv'\n",
    "\n",
    "\n",
    "def get_sentences(datapath: Path) -> pd.Series:\n",
    "    sentences = pd.read_csv(str(datapath))\n",
    "    sentences = sentences[\"title\"]\n",
    "    sentences = sentences.dropna()\n",
    "    sentences = sentences.apply(lambda x: re.sub('[^a-zA-Z]', ' ', x))\n",
    "    sentences = sentences.apply(lambda x: re.sub(r'\\b[b-hj-z]\\b', ' ', x)) # floating single letters except 'a', 'i'    \n",
    "    return sentences\n",
    "\n",
    "\n",
    "sentences = get_sentences(datapath)\n",
    "tokenizer = get_tokenizer('basic_english')\n",
    "tokenized_sentences = sentences.apply(tokenizer)\n",
    "\n",
    "features_vocab = torchtext.vocab.build_vocab_from_iterator(\n",
    "    tokenized_sentences,\n",
    "    min_freq=2, # minimum frequency of a word to be included in the vocabulary\n",
    "    specials=['<pad>', '<oov>'], # pad = padding, oov = out of vocabulary\n",
    "    special_first=True\n",
    ")\n",
    "target_vocab = torchtext.vocab.build_vocab_from_iterator(\n",
    "    tokenized_sentences,\n",
    "    min_freq=2\n",
    ")\n",
    "\n",
    "\n",
    "def get_ngram_encoding(tokenized_sentences: List[str]) -> Tuple[torch.Tensor, torch.Tensor]:\n",
    "    # get ngrams of tokenized sentences and encode them to vocabulary indices\n",
    "\n",
    "    def _get_ngrams(tokenized_sentence: List[str]) -> List[List[str]]:\n",
    "        # example: \"hello beautiful world\" -> [\"hello\", \"hello beautiful\", \"hello beautiful world\"]\n",
    "        list_ngrams = []\n",
    "        for i in range(1, len(tokenized_sentence)):\n",
    "            ngram_sequence = tokenized_sentence[:i+1]\n",
    "            list_ngrams.append(ngram_sequence)\n",
    "        return list_ngrams\n",
    "\n",
    "    def _insert_oovs(ngram: List[str]) -> List[str]:\n",
    "        # replace 10% of tokens with <oov> token to simulate the presence of out-of-vocabulary words    \n",
    "        for idx, _ in enumerate(ngram[:-1]):\n",
    "            if random.uniform(0, 1) < 0.1:\n",
    "                ngram[idx] = '<oov>'\n",
    "        return ngram\n",
    "\n",
    "    def _encode_to_vocab_idx(tokenized_sentence: List[str]) -> Optional[List[int]]:\n",
    "        # encode by replacing each token with its index in the vocabulary\n",
    "        tokens_list = []\n",
    "        if tokenized_sentence[-1] in target_vocab.get_itos(): # get_itos() = get index to string\n",
    "            for token in tokenized_sentence[:-1]:\n",
    "                num_token = features_vocab[token] if token in features_vocab.get_itos() else features_vocab['<oov>'] # features from features_vocab\n",
    "                tokens_list.append(num_token)\n",
    "            num_token = target_vocab[tokenized_sentence[-1]] # target (last token) from target_vocab\n",
    "            tokens_list.append(num_token)\n",
    "            return tokens_list\n",
    "        \n",
    "        # target token is not in the vocabulary\n",
    "        return None\n",
    "\n",
    "    flatmap = lambda f, items: functools.reduce(operator.iconcat, map(f, items), [])\n",
    "\n",
    "    # get ngram encodings\n",
    "    ngrams_list = flatmap(_get_ngrams, tokenized_sentences)\n",
    "    ngrams_list_oov = list(map(_insert_oovs, ngrams_list))\n",
    "    input_sequences = list(filter(None, map(_encode_to_vocab_idx, ngrams_list_oov)))\n",
    "\n",
    "    # split into feature and target lists\n",
    "    X = [seq[:-1] for seq in input_sequences]\n",
    "    y = [seq[-1] for seq in input_sequences]\n",
    "\n",
    "    # pad all feature sequences to the same length\n",
    "    maxlen = max(len(x) for x in X)\n",
    "    X = [F.pad(torch.tensor(x), (maxlen - len(x), 0), value=0) for x in X]\n",
    "\n",
    "    X = torch.stack(X)\n",
    "    y = torch.tensor(y)\n",
    "    return X, y\n",
    "\n",
    "\n",
    "X, y = get_ngram_encoding(tokenized_sentences)\n",
    "print(f\"encoded dataset: {X.shape=}, {y.shape=}\")"
   ]
  },
  {
   "cell_type": "code",
   "execution_count": 15,
   "metadata": {},
   "outputs": [
    {
     "name": "stderr",
     "output_type": "stream",
     "text": [
      "  2%|▏         | 1/50 [00:10<08:35, 10.52s/it]"
     ]
    },
    {
     "name": "stdout",
     "output_type": "stream",
     "text": [
      "Epoch 0/50, Loss: 6.7724, Train K-Accuracy: 10.66%\n"
     ]
    },
    {
     "name": "stderr",
     "output_type": "stream",
     "text": [
      " 12%|█▏        | 6/50 [00:42<05:12,  7.11s/it]"
     ]
    },
    {
     "name": "stdout",
     "output_type": "stream",
     "text": [
      "Epoch 5/50, Loss: 6.7816, Train K-Accuracy: 23.89%\n"
     ]
    },
    {
     "name": "stderr",
     "output_type": "stream",
     "text": [
      " 22%|██▏       | 11/50 [01:16<04:46,  7.36s/it]"
     ]
    },
    {
     "name": "stdout",
     "output_type": "stream",
     "text": [
      "Epoch 10/50, Loss: 6.0097, Train K-Accuracy: 49.37%\n"
     ]
    },
    {
     "name": "stderr",
     "output_type": "stream",
     "text": [
      " 32%|███▏      | 16/50 [01:48<04:00,  7.08s/it]"
     ]
    },
    {
     "name": "stdout",
     "output_type": "stream",
     "text": [
      "Epoch 15/50, Loss: 2.8870, Train K-Accuracy: 67.49%\n"
     ]
    },
    {
     "name": "stderr",
     "output_type": "stream",
     "text": [
      " 42%|████▏     | 21/50 [02:22<03:38,  7.52s/it]"
     ]
    },
    {
     "name": "stdout",
     "output_type": "stream",
     "text": [
      "Epoch 20/50, Loss: 4.3056, Train K-Accuracy: 78.02%\n"
     ]
    },
    {
     "name": "stderr",
     "output_type": "stream",
     "text": [
      " 52%|█████▏    | 26/50 [02:56<03:00,  7.51s/it]"
     ]
    },
    {
     "name": "stdout",
     "output_type": "stream",
     "text": [
      "Epoch 25/50, Loss: 2.2487, Train K-Accuracy: 83.78%\n"
     ]
    },
    {
     "name": "stderr",
     "output_type": "stream",
     "text": [
      " 62%|██████▏   | 31/50 [03:29<02:16,  7.18s/it]"
     ]
    },
    {
     "name": "stdout",
     "output_type": "stream",
     "text": [
      "Epoch 30/50, Loss: 1.0645, Train K-Accuracy: 87.18%\n"
     ]
    },
    {
     "name": "stderr",
     "output_type": "stream",
     "text": [
      " 72%|███████▏  | 36/50 [04:03<01:40,  7.19s/it]"
     ]
    },
    {
     "name": "stdout",
     "output_type": "stream",
     "text": [
      "Epoch 35/50, Loss: 3.5201, Train K-Accuracy: 89.20%\n"
     ]
    },
    {
     "name": "stderr",
     "output_type": "stream",
     "text": [
      " 82%|████████▏ | 41/50 [04:36<01:03,  7.09s/it]"
     ]
    },
    {
     "name": "stdout",
     "output_type": "stream",
     "text": [
      "Epoch 40/50, Loss: 0.9913, Train K-Accuracy: 90.57%\n"
     ]
    },
    {
     "name": "stderr",
     "output_type": "stream",
     "text": [
      " 92%|█████████▏| 46/50 [05:08<00:28,  7.13s/it]"
     ]
    },
    {
     "name": "stdout",
     "output_type": "stream",
     "text": [
      "Epoch 45/50, Loss: 1.8741, Train K-Accuracy: 91.18%\n"
     ]
    },
    {
     "name": "stderr",
     "output_type": "stream",
     "text": [
      "100%|██████████| 50/50 [05:31<00:00,  6.63s/it]\n"
     ]
    }
   ],
   "source": [
    "config = {\n",
    "    \"batch_size\": 32,\n",
    "    \"train_size\": 0.8,\n",
    "\n",
    "    \"hidden_dim\": 200,\n",
    "    \"epochs\": 50,\n",
    "    \"dropout_prob\": 0.5,\n",
    "    \"lr\": 0.0009,\n",
    "}\n",
    "\n",
    "class Autocompleter(nn.Module):\n",
    "    def __init__(self, features_vocab_total_words, target_vocab_total_words, embedding_dim, hidden_dim, dropout_prob):\n",
    "        super(Autocompleter, self).__init__()\n",
    "\n",
    "        self.embedding = nn.Embedding(features_vocab_total_words, embedding_dim)\n",
    "        self.lstm = nn.LSTM(embedding_dim, hidden_dim, batch_first=True)\n",
    "        self.dropout = nn.Dropout(dropout_prob)\n",
    "        self.fc = nn.Linear(hidden_dim, target_vocab_total_words)\n",
    "\n",
    "    def forward(self, x):\n",
    "        x = x.to(self.embedding.weight.device)\n",
    "        embedded = self.embedding(x) # convert indices to dense vectors\n",
    "        lstm_out, _ = self.lstm(embedded) # LSTM layer\n",
    "        lstm_out = self.dropout(lstm_out) # dropout layer: randomly zero out elements of the input tensor with probability p\n",
    "        output = self.fc(lstm_out[:, -1, :]) # fully connected layer: map the output of the LSTM layer to the output vocabulary\n",
    "        return output\n",
    "\n",
    "def get_train_test_loader(X: torch.Tensor, y: torch.Tensor, batch_size: int, train_size: float) -> Tuple[DataLoader, DataLoader]:\n",
    "    y_one_hot = one_hot(y, num_classes=len(target_vocab))\n",
    "    data = TensorDataset(X, y_one_hot)\n",
    "    \n",
    "    train_size = int(0.8 * len(data))\n",
    "    test_size = len(data) - train_size\n",
    "    batch_size = config[\"batch_size\"]\n",
    "\n",
    "    train_data, test_data = random_split(data, [train_size, test_size])\n",
    "    train_loader = DataLoader(train_data, batch_size=batch_size, shuffle=True)\n",
    "    test_loader = DataLoader(test_data, batch_size=batch_size, shuffle=False)\n",
    "    return train_loader, test_loader\n",
    "\n",
    "def get_prediction_accuracy(model, data_loader, k=3):\n",
    "    model.eval() # eval mode\n",
    "    correct_predictions = 0\n",
    "    total_predictions = 0\n",
    "\n",
    "    with torch.no_grad():\n",
    "        for batch_x, batch_y in data_loader:\n",
    "            batch_x, batch_y = batch_x.to(device), batch_y.to(device) # move to device\n",
    "            output = model(batch_x) # forward pass\n",
    "            _, predicted_indices = output.topk(k, dim=1) # get top-k predictions\n",
    "\n",
    "            correct_predictions += torch.any(predicted_indices == torch.argmax(batch_y, dim=1, keepdim=True), dim=1).sum().item()\n",
    "            total_predictions += batch_y.size(0)\n",
    "\n",
    "    accuracy = correct_predictions / total_predictions\n",
    "    return accuracy\n",
    "\n",
    "model = Autocompleter(features_vocab_total_words=len(features_vocab), target_vocab_total_words=len(target_vocab),\n",
    "                      embedding_dim=max(len(x) for x in X), hidden_dim=config[\"hidden_dim\"], dropout_prob=config[\"dropout_prob\"])\n",
    "criterion = nn.CrossEntropyLoss()\n",
    "optimizer = optim.Adam(model.parameters(), lr=config[\"lr\"])\n",
    "model.to(device)\n",
    "\n",
    "train_loader, test_loader = get_train_test_loader(X, y, config[\"batch_size\"], config[\"train_size\"])\n",
    "\n",
    "all_accuracies = []\n",
    "all_losses = []\n",
    "epoch_split = 5\n",
    "for epoch in tqdm(range(config[\"epochs\"])):\n",
    "    model.train() # train mode\n",
    "\n",
    "    for batch_X, batch_y in train_loader:\n",
    "        batch_X, batch_y = batch_X.to(device), batch_y.to(device)\n",
    "        optimizer.zero_grad()\n",
    "        outputs = model(batch_X)\n",
    "        loss = criterion(outputs, batch_y.argmax(dim=1))\n",
    "\n",
    "        loss.backward()\n",
    "        optimizer.step()\n",
    "\n",
    "    if epoch % epoch_split == 0:\n",
    "        accuracy = get_prediction_accuracy(model, train_loader)\n",
    "        print(f'Epoch {epoch}/{config[\"epochs\"]}, Loss: {loss.item():.4f}, Train K-Accuracy: {accuracy * 100:.2f}%')\n",
    "        all_accuracies.append(accuracy)\n",
    "        all_losses.append(loss.item())\n"
   ]
  },
  {
   "cell_type": "markdown",
   "metadata": {},
   "source": [
    "# benchmark"
   ]
  },
  {
   "cell_type": "code",
   "execution_count": 16,
   "metadata": {},
   "outputs": [
    {
     "data": {
      "image/png": "[encoded data removed]",
      "text/plain": [
       "<Figure size 800x400 with 2 Axes>"
      ]
     },
     "metadata": {},
     "output_type": "display_data"
    }
   ],
   "source": [
    "epoch_list = [i for i in range(1,config[\"epochs\"],epoch_split)]\n",
    "\n",
    "fig, axes = plt.subplots(nrows=1, ncols=2, figsize=(8, 4)) \n",
    "\n",
    "axes[0].plot(epoch_list, all_accuracies, color='#5a7da9', label='Accuracy', linewidth=3)\n",
    "axes[0].set_xlabel('Epochs')\n",
    "axes[0].set_ylabel('Accuracy')\n",
    "axes[0].set_title('Accuracy Graph')\n",
    "axes[0].grid(True)\n",
    " \n",
    "axes[1].plot(epoch_list, all_losses, color='#adad3b', label='Accuracy', linewidth=3)\n",
    "axes[1].set_xlabel('Epochs')\n",
    "axes[1].set_ylabel('Loss')\n",
    "axes[1].set_title('Loss Graph')\n",
    "axes[1].grid(True)\n",
    "\n",
    "plt.tight_layout()\n",
    "plt.show()"
   ]
  },
  {
   "cell_type": "code",
   "execution_count": 17,
   "metadata": {},
   "outputs": [
    {
     "name": "stdout",
     "output_type": "stream",
     "text": [
      "Test K-Accuracy: 16.13%\n"
     ]
    }
   ],
   "source": [
    "accuracy = get_prediction_accuracy(model, test_loader)\n",
    "print(f'Test K-Accuracy: {accuracy * 100:.2f}%')"
   ]
  },
  {
   "cell_type": "code",
   "execution_count": 23,
   "metadata": {},
   "outputs": [
    {
     "data": {
      "text/plain": [
       "['why trump is a real shot a new phase in the asia move by isis wikileaks emails have citizen she',\n",
       " 'trump and sanders say whether he ll accept election results what',\n",
       " 'this is why clinton trump and',\n",
       " '6 ways to eat at',\n",
       " 'you did a being a movement movement in the election for the history']"
      ]
     },
     "execution_count": 23,
     "metadata": {},
     "output_type": "execute_result"
    }
   ],
   "source": [
    "def autocomplete(input_list):\n",
    "    model.eval()\n",
    "\n",
    "    def encode_to_vocab_idx(tokenized_text):\n",
    "        tokens_list = []\n",
    "        for token in tokenized_text:\n",
    "            num_token = features_vocab[token] if token in features_vocab.get_itos() else features_vocab['<oov>']\n",
    "            tokens_list.append(num_token)\n",
    "        return tokens_list\n",
    "\n",
    "    output_list = []\n",
    "    for data in input_list:\n",
    "        sentence = data[0]\n",
    "        num_words = data[1]\n",
    "        for _ in range(num_words):\n",
    "            tokenized_input_test = tokenizer(sentence)\n",
    "            tokenized_sequence_input_test = encode_to_vocab_idx(tokenized_input_test)\n",
    "            padded_tokenized_sequence_input_test = F.pad(torch.tensor(tokenized_sequence_input_test),\n",
    "                                                         (max(len(x) for x in X) - len(tokenized_sequence_input_test)-1, 0), value=0)\n",
    "            output_test_walking = torch.argmax(model(padded_tokenized_sequence_input_test.unsqueeze(0)))\n",
    "            sentence = sentence + ' ' + target_vocab.lookup_token(output_test_walking.item()) # type: ignore\n",
    "        output_list.append(sentence)\n",
    "    return output_list\n",
    "\n",
    "input_test = [['why', 19], ['trump', 10], ['this is', 4], ['6 ways', 3], ['you did a', 10]]\n",
    "outputs_model = autocomplete(input_test)\n",
    "outputs_model"
   ]
  },
  {
   "cell_type": "code",
   "execution_count": null,
   "metadata": {},
   "outputs": [],
   "source": []
  }
 ],
 "metadata": {
  "kernelspec": {
   "display_name": "Python 3",
   "language": "python",
   "name": "python3"
  },
  "language_info": {
   "codemirror_mode": {
    "name": "ipython",
    "version": 3
   },
   "file_extension": ".py",
   "mimetype": "text/x-python",
   "name": "python",
   "nbconvert_exporter": "python",
   "pygments_lexer": "ipython3",
   "version": "3.11.9"
  }
 },
 "nbformat": 4,
 "nbformat_minor": 2
}
