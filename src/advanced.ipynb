{
 "cells": [
  {
   "cell_type": "markdown",
   "metadata": {},
   "source": [
    "based on https://www.kaggle.com/code/dota2player/next-word-prediction-with-lstm-pytorch/notebook"
   ]
  },
  {
   "cell_type": "code",
   "execution_count": 2,
   "metadata": {},
   "outputs": [
    {
     "data": {
      "text/html": [
       "<div>\n",
       "<style scoped>\n",
       "    .dataframe tbody tr th:only-of-type {\n",
       "        vertical-align: middle;\n",
       "    }\n",
       "\n",
       "    .dataframe tbody tr th {\n",
       "        vertical-align: top;\n",
       "    }\n",
       "\n",
       "    .dataframe thead th {\n",
       "        text-align: right;\n",
       "    }\n",
       "</style>\n",
       "<table border=\"1\" class=\"dataframe\">\n",
       "  <thead>\n",
       "    <tr style=\"text-align: right;\">\n",
       "      <th></th>\n",
       "      <th>id</th>\n",
       "      <th>url</th>\n",
       "      <th>title</th>\n",
       "      <th>subtitle</th>\n",
       "      <th>image</th>\n",
       "      <th>claps</th>\n",
       "      <th>responses</th>\n",
       "      <th>reading_time</th>\n",
       "      <th>publication</th>\n",
       "      <th>date</th>\n",
       "    </tr>\n",
       "  </thead>\n",
       "  <tbody>\n",
       "    <tr>\n",
       "      <th>0</th>\n",
       "      <td>1</td>\n",
       "      <td>https://towardsdatascience.com/a-beginners-gui...</td>\n",
       "      <td>A Beginner’s Guide to Word Embedding with Gens...</td>\n",
       "      <td>NaN</td>\n",
       "      <td>1.png</td>\n",
       "      <td>850</td>\n",
       "      <td>8</td>\n",
       "      <td>8</td>\n",
       "      <td>Towards Data Science</td>\n",
       "      <td>2019-05-30</td>\n",
       "    </tr>\n",
       "    <tr>\n",
       "      <th>1</th>\n",
       "      <td>2</td>\n",
       "      <td>https://towardsdatascience.com/hands-on-graph-...</td>\n",
       "      <td>Hands-on Graph Neural Networks with PyTorch &amp; ...</td>\n",
       "      <td>NaN</td>\n",
       "      <td>2.png</td>\n",
       "      <td>1100</td>\n",
       "      <td>11</td>\n",
       "      <td>9</td>\n",
       "      <td>Towards Data Science</td>\n",
       "      <td>2019-05-30</td>\n",
       "    </tr>\n",
       "    <tr>\n",
       "      <th>2</th>\n",
       "      <td>3</td>\n",
       "      <td>https://towardsdatascience.com/how-to-use-ggpl...</td>\n",
       "      <td>How to Use ggplot2 in Python</td>\n",
       "      <td>A Grammar of Graphics for Python</td>\n",
       "      <td>3.png</td>\n",
       "      <td>767</td>\n",
       "      <td>1</td>\n",
       "      <td>5</td>\n",
       "      <td>Towards Data Science</td>\n",
       "      <td>2019-05-30</td>\n",
       "    </tr>\n",
       "    <tr>\n",
       "      <th>3</th>\n",
       "      <td>4</td>\n",
       "      <td>https://towardsdatascience.com/databricks-how-...</td>\n",
       "      <td>Databricks: How to Save Files in CSV on Your L...</td>\n",
       "      <td>When I work on Python projects dealing…</td>\n",
       "      <td>4.jpeg</td>\n",
       "      <td>354</td>\n",
       "      <td>0</td>\n",
       "      <td>4</td>\n",
       "      <td>Towards Data Science</td>\n",
       "      <td>2019-05-30</td>\n",
       "    </tr>\n",
       "    <tr>\n",
       "      <th>4</th>\n",
       "      <td>5</td>\n",
       "      <td>https://towardsdatascience.com/a-step-by-step-...</td>\n",
       "      <td>A Step-by-Step Implementation of Gradient Desc...</td>\n",
       "      <td>One example of building neural…</td>\n",
       "      <td>5.jpeg</td>\n",
       "      <td>211</td>\n",
       "      <td>3</td>\n",
       "      <td>4</td>\n",
       "      <td>Towards Data Science</td>\n",
       "      <td>2019-05-30</td>\n",
       "    </tr>\n",
       "  </tbody>\n",
       "</table>\n",
       "</div>"
      ],
      "text/plain": [
       "   id                                                url  \\\n",
       "0   1  https://towardsdatascience.com/a-beginners-gui...   \n",
       "1   2  https://towardsdatascience.com/hands-on-graph-...   \n",
       "2   3  https://towardsdatascience.com/how-to-use-ggpl...   \n",
       "3   4  https://towardsdatascience.com/databricks-how-...   \n",
       "4   5  https://towardsdatascience.com/a-step-by-step-...   \n",
       "\n",
       "                                               title  \\\n",
       "0  A Beginner’s Guide to Word Embedding with Gens...   \n",
       "1  Hands-on Graph Neural Networks with PyTorch & ...   \n",
       "2                       How to Use ggplot2 in Python   \n",
       "3  Databricks: How to Save Files in CSV on Your L...   \n",
       "4  A Step-by-Step Implementation of Gradient Desc...   \n",
       "\n",
       "                                  subtitle   image  claps responses  \\\n",
       "0                                      NaN   1.png    850         8   \n",
       "1                                      NaN   2.png   1100        11   \n",
       "2         A Grammar of Graphics for Python   3.png    767         1   \n",
       "3  When I work on Python projects dealing…  4.jpeg    354         0   \n",
       "4          One example of building neural…  5.jpeg    211         3   \n",
       "\n",
       "   reading_time           publication        date  \n",
       "0             8  Towards Data Science  2019-05-30  \n",
       "1             9  Towards Data Science  2019-05-30  \n",
       "2             5  Towards Data Science  2019-05-30  \n",
       "3             4  Towards Data Science  2019-05-30  \n",
       "4             4  Towards Data Science  2019-05-30  "
      ]
     },
     "execution_count": 2,
     "metadata": {},
     "output_type": "execute_result"
    }
   ],
   "source": [
    "import pandas as pd\n",
    "import numpy as np\n",
    "from bs4 import BeautifulSoup\n",
    "import re\n",
    "import demoji\n",
    "import random\n",
    "import matplotlib.pyplot as plt\n",
    "\n",
    "import torchtext\n",
    "import torchtext.vocab\n",
    "\n",
    "import torch\n",
    "import torch.nn as nn\n",
    "import torch.nn.functional as F\n",
    "from torch.nn.functional import one_hot\n",
    "from torchtext.data.utils import get_tokenizer\n",
    "from torch.utils.data import TensorDataset, DataLoader, random_split\n",
    "import torch.optim as optim\n",
    "\n",
    "from pathlib import Path\n",
    "\n",
    "import warnings\n",
    "warnings.filterwarnings(\"ignore\")\n",
    "torchtext.disable_torchtext_deprecation_warning()\n",
    "warnings.warn(torchtext._TORCHTEXT_DEPRECATION_MSG)\n",
    "\n",
    "seed = 42\n",
    "torch.manual_seed(seed)\n",
    "np.random.seed(seed)\n",
    "\n",
    "df = pd.read_csv(str(Path.cwd().parent / 'data' / 'medium_data.csv'))\n",
    "df.head()\n"
   ]
  },
  {
   "cell_type": "code",
   "execution_count": 3,
   "metadata": {},
   "outputs": [
    {
     "data": {
      "text/plain": [
       "6508"
      ]
     },
     "execution_count": 3,
     "metadata": {},
     "output_type": "execute_result"
    }
   ],
   "source": [
    "def preprocessing_title(title):\n",
    "    def remove_html_tags(title):\n",
    "        soup = BeautifulSoup(title, 'html.parser')\n",
    "        return soup.get_text()\n",
    "    def remove_non_alphabetic(title):\n",
    "        return re.sub('[^a-zA-Z]', ' ', title)\n",
    "    def remove_imojis(title):\n",
    "        return demoji.replace(title, '')\n",
    "\n",
    "    title = remove_html_tags(title)\n",
    "    title = remove_imojis(title)\n",
    "    title = remove_non_alphabetic(title)\n",
    "    title.replace(u'\\xa0', u' ')\n",
    "    title.replace('\\x200a', ' ')\n",
    "    return title\n",
    "\n",
    "df_titles = df['title']\n",
    "df_titles = df_titles.apply(preprocessing_title)\n",
    "\n",
    "tokenizer = get_tokenizer('basic_english')\n",
    "tokenized_titles = [tokenizer(title) for title in df_titles]\n",
    "len(tokenized_titles)"
   ]
  },
  {
   "cell_type": "code",
   "execution_count": 4,
   "metadata": {},
   "outputs": [
    {
     "name": "stdout",
     "output_type": "stream",
     "text": [
      "Total number of words in features vocabulary: 3571\n",
      "Total number of words in target vocabulary: 3569\n",
      "------------------------------\n",
      "Word -> ID\n",
      "<pad> -> 0\n",
      "<oov> -> 1\n",
      "embedding in feature vocab-> 1591\n",
      "embedding in target vocab-> 1589\n"
     ]
    }
   ],
   "source": [
    "# feature vs. target vocab\n",
    "# oov = out of vocabulary\n",
    "# pad = padding\n",
    "\n",
    "features_vocab = torchtext.vocab.build_vocab_from_iterator(\n",
    "    tokenized_titles,\n",
    "    min_freq=2,\n",
    "    specials=['<pad>', '<oov>'],\n",
    "    special_first=True\n",
    ")\n",
    "target_vocab = torchtext.vocab.build_vocab_from_iterator(\n",
    "    tokenized_titles,\n",
    "    min_freq=2\n",
    ")\n",
    "\n",
    "features_vocab_total_words = len(features_vocab)\n",
    "target_vocab_total_words = len(target_vocab)\n",
    "\n",
    "print(f'Total number of words in features vocabulary: {features_vocab_total_words}')\n",
    "print(f'Total number of words in target vocabulary: {target_vocab_total_words}')\n",
    "print('-'*30)\n",
    "print('Word -> ID')\n",
    "print('<pad> -> '+ str(features_vocab['<pad>']))\n",
    "print('<oov> -> '+ str(features_vocab['<oov>']))\n",
    "print('embedding in feature vocab-> '+ str(features_vocab['embedding']))\n",
    "print('embedding in target vocab-> '+ str(target_vocab['embedding']))"
   ]
  },
  {
   "cell_type": "code",
   "execution_count": 5,
   "metadata": {},
   "outputs": [
    {
     "name": "stdout",
     "output_type": "stream",
     "text": [
      "44910\n",
      "True\n",
      "Total input sequences: 41297\n",
      "[[4, 511, 14, 63, 3, 446, 1591, 12, 2841], [4, 511, 1, 63, 3, 446, 1591, 12, 2843, 444]]\n"
     ]
    }
   ],
   "source": [
    "def text_to_numerical_sequence(tokenized_text):\n",
    "    tokens_list = []\n",
    "    if tokenized_text[-1] in target_vocab.get_itos():\n",
    "        for token in tokenized_text[:-1]:\n",
    "            num_token = features_vocab[token] if token in features_vocab.get_itos() else features_vocab['<oov>']\n",
    "            tokens_list.append(num_token)\n",
    "        num_token = target_vocab[tokenized_text[-1]]\n",
    "        tokens_list.append(num_token)\n",
    "        return tokens_list\n",
    "    return None\n",
    "\n",
    "def add_random_oov_tokens(ngram):\n",
    "    for idx, word in enumerate(ngram[:-1]):\n",
    "        if random.uniform(0, 1) < 0.1:\n",
    "            ngram[idx] = '<oov>'\n",
    "    return ngram\n",
    "\n",
    "def make_ngrams(tokenized_title):\n",
    "    list_ngrams = []\n",
    "    for i in range(1, len(tokenized_title)):\n",
    "        ngram_sequence = tokenized_title[:i+1]\n",
    "        list_ngrams.append(ngram_sequence)\n",
    "    return list_ngrams\n",
    "\n",
    "ngrams_list = []\n",
    "for tokenized_title in tokenized_titles:\n",
    "    ngrams_list.extend(make_ngrams(tokenized_title))\n",
    "print(len(ngrams_list))\n",
    "\n",
    "ngrams_list_oov = []\n",
    "for ngram in ngrams_list:\n",
    "    ngrams_list_oov.append(add_random_oov_tokens(ngram))\n",
    "print(any('<oov>' in ngram for ngram in ngrams_list_oov))\n",
    "\n",
    "input_sequences = [text_to_numerical_sequence(sequence) for sequence in ngrams_list_oov if text_to_numerical_sequence(sequence)]\n",
    "print(f'Total input sequences: {len(input_sequences)}')\n",
    "print(input_sequences[7:9])"
   ]
  },
  {
   "cell_type": "code",
   "execution_count": 6,
   "metadata": {},
   "outputs": [
    {
     "data": {
      "text/plain": [
       "(1, 509)"
      ]
     },
     "execution_count": 6,
     "metadata": {},
     "output_type": "execute_result"
    }
   ],
   "source": [
    "X = [sequence[:-1] for sequence in input_sequences] # type: ignore\n",
    "y = [sequence[-1] for sequence in input_sequences] # type: ignore\n",
    "len(X[0]), y[0]"
   ]
  },
  {
   "cell_type": "code",
   "execution_count": 7,
   "metadata": {},
   "outputs": [
    {
     "data": {
      "text/plain": [
       "23"
      ]
     },
     "execution_count": 7,
     "metadata": {},
     "output_type": "execute_result"
    }
   ],
   "source": [
    "longest_sequence_feature = max(len(sequence) for sequence in X)\n",
    "longest_sequence_feature"
   ]
  },
  {
   "cell_type": "code",
   "execution_count": 8,
   "metadata": {},
   "outputs": [
    {
     "data": {
      "text/plain": [
       "(tensor([0, 0, 0, 0, 0, 0, 0, 0, 0, 0, 0, 0, 0, 0, 0, 0, 0, 0, 0, 0, 0, 0, 4]),\n",
       " [4],\n",
       " 23)"
      ]
     },
     "execution_count": 8,
     "metadata": {},
     "output_type": "execute_result"
    }
   ],
   "source": [
    "padded_X = [F.pad(torch.tensor(sequence), (longest_sequence_feature - len(sequence),\n",
    "                                           0), value=0) for sequence in X]\n",
    "padded_X[0], X[0], len(padded_X[0])\n"
   ]
  },
  {
   "cell_type": "code",
   "execution_count": 9,
   "metadata": {},
   "outputs": [
    {
     "data": {
      "text/plain": [
       "(torch.Tensor, torch.Tensor)"
      ]
     },
     "execution_count": 9,
     "metadata": {},
     "output_type": "execute_result"
    }
   ],
   "source": [
    "padded_X = torch.stack(padded_X)\n",
    "y = torch.tensor(y)\n",
    "type(y), type(padded_X)\n"
   ]
  },
  {
   "cell_type": "code",
   "execution_count": 10,
   "metadata": {},
   "outputs": [],
   "source": [
    "y_one_hot = one_hot(y, num_classes=target_vocab_total_words)\n",
    "\n",
    "data = TensorDataset(padded_X, y_one_hot)\n",
    "train_size = int(0.8 * len(data))\n",
    "test_size = len(data) - train_size\n",
    "batch_size = 32\n",
    "train_data, test_data = random_split(data, [train_size, test_size])\n",
    "train_loader = DataLoader(train_data, batch_size=batch_size, shuffle=True)\n",
    "test_loader = DataLoader(test_data, batch_size=batch_size, shuffle=False)\n"
   ]
  },
  {
   "cell_type": "code",
   "execution_count": 11,
   "metadata": {},
   "outputs": [
    {
     "data": {
      "text/plain": [
       "device(type='mps')"
      ]
     },
     "execution_count": 11,
     "metadata": {},
     "output_type": "execute_result"
    }
   ],
   "source": [
    "class My_LSTM(nn.Module):\n",
    "    def __init__(self, features_vocab_total_words, target_vocab_total_words, embedding_dim, hidden_dim):\n",
    "        super(My_LSTM, self).__init__()\n",
    "        self.embedding = nn.Embedding(features_vocab_total_words, embedding_dim)\n",
    "        self.lstm = nn.LSTM(embedding_dim, hidden_dim, batch_first=True) \n",
    "        self.dropout = nn.Dropout(0.5)\n",
    "        self.fc = nn.Linear(hidden_dim, target_vocab_total_words)\n",
    "\n",
    "    def forward(self, x):\n",
    "        x = x.to(self.embedding.weight.device)\n",
    "        embedded = self.embedding(x)\n",
    "        lstm_out, _ = self.lstm(embedded)\n",
    "        lstm_out = self.dropout(lstm_out)\n",
    "        output = self.fc(lstm_out[:, -1, :])\n",
    "        return output\n",
    "\n",
    "embedding_dim = longest_sequence_feature\n",
    "hidden_dim = 200\n",
    "epochs = 50\n",
    "model = My_LSTM(features_vocab_total_words, target_vocab_total_words, embedding_dim=embedding_dim, hidden_dim=hidden_dim)\n",
    "criterion = nn.CrossEntropyLoss()\n",
    "optimizer = optim.Adam(model.parameters(), lr=0.0009)\n",
    "device = torch.device(\"cuda\" if torch.cuda.is_available() else \"mps\" if torch.backends.mps.is_available() else \"cpu\")\n",
    "device\n"
   ]
  },
  {
   "cell_type": "code",
   "execution_count": 12,
   "metadata": {},
   "outputs": [
    {
     "data": {
      "text/plain": [
       "My_LSTM(\n",
       "  (embedding): Embedding(3571, 23)\n",
       "  (lstm): LSTM(23, 200, batch_first=True)\n",
       "  (dropout): Dropout(p=0.5, inplace=False)\n",
       "  (fc): Linear(in_features=200, out_features=3569, bias=True)\n",
       ")"
      ]
     },
     "execution_count": 12,
     "metadata": {},
     "output_type": "execute_result"
    }
   ],
   "source": [
    "def calculate_topk_accuracy(model, data_loader, k=3):\n",
    "    model.eval()\n",
    "    correct_predictions = 0\n",
    "    total_predictions = 0\n",
    "\n",
    "    with torch.no_grad():\n",
    "        for batch_x, batch_y in data_loader:\n",
    "            batch_x, batch_y = batch_x.to(device), batch_y.to(device)\n",
    "\n",
    "            # Forward pass\n",
    "            output = model(batch_x)\n",
    "\n",
    "            # Get top-k predictions\n",
    "            _, predicted_indices = output.topk(k, dim=1)\n",
    "\n",
    "            # Check if the correct label is in the top-k predictions\n",
    "            correct_predictions += torch.any(predicted_indices == torch.argmax(batch_y, dim=1, keepdim=True), dim=1).sum().item()\n",
    "            total_predictions += batch_y.size(0)\n",
    "\n",
    "    accuracy = correct_predictions / total_predictions\n",
    "    return accuracy\n",
    "\n",
    "model.to(device)"
   ]
  },
  {
   "cell_type": "code",
   "execution_count": 13,
   "metadata": {},
   "outputs": [
    {
     "name": "stdout",
     "output_type": "stream",
     "text": [
      "Epoch 0/50, Loss: 7.3017, Train K-Accuracy: 12.51%\n",
      "Epoch 5/50, Loss: 4.4730, Train K-Accuracy: 24.94%\n",
      "Epoch 10/50, Loss: 4.3422, Train K-Accuracy: 39.64%\n",
      "Epoch 15/50, Loss: 4.3048, Train K-Accuracy: 56.72%\n",
      "Epoch 20/50, Loss: 3.4692, Train K-Accuracy: 68.70%\n",
      "Epoch 25/50, Loss: 2.7993, Train K-Accuracy: 74.95%\n",
      "Epoch 30/50, Loss: 3.0492, Train K-Accuracy: 78.87%\n",
      "Epoch 35/50, Loss: 3.4385, Train K-Accuracy: 81.74%\n",
      "Epoch 40/50, Loss: 1.4259, Train K-Accuracy: 83.56%\n",
      "Epoch 45/50, Loss: 1.3268, Train K-Accuracy: 84.80%\n"
     ]
    }
   ],
   "source": [
    "all_accuracies = []\n",
    "all_losses = []\n",
    "for epoch in range(epochs):   \n",
    "    model.train()\n",
    "    for batch_X, batch_y in train_loader:\n",
    "        batch_X, batch_y = batch_X.to(device), batch_y.to(device)\n",
    "        optimizer.zero_grad()\n",
    "        outputs = model(batch_X)\n",
    "        loss = criterion(outputs, batch_y.argmax(dim=1))\n",
    "        loss.backward()\n",
    "        optimizer.step()\n",
    "            \n",
    "    if epoch % 5 == 0:\n",
    "        accuracy = calculate_topk_accuracy(model, train_loader)\n",
    "        print(f'Epoch {epoch}/{epochs}, Loss: {loss.item():.4f}, Train K-Accuracy: {accuracy * 100:.2f}%')\n",
    "        all_accuracies.append(accuracy)\n",
    "        all_losses.append(loss.item())\n"
   ]
  },
  {
   "cell_type": "code",
   "execution_count": 14,
   "metadata": {},
   "outputs": [
    {
     "data": {
      "image/png": "[encoded data removed]",
      "text/plain": [
       "<Figure size 800x400 with 2 Axes>"
      ]
     },
     "metadata": {},
     "output_type": "display_data"
    }
   ],
   "source": [
    "epoch_list = [i for i in range(1,epochs,5)]\n",
    "\n",
    "fig, axes = plt.subplots(nrows=1, ncols=2, figsize=(8, 4)) \n",
    "\n",
    "axes[0].plot(epoch_list, all_accuracies, color='#5a7da9', label='Accuracy', linewidth=3)\n",
    "axes[0].set_xlabel('Epochs')\n",
    "axes[0].set_ylabel('Accuracy')\n",
    "axes[0].set_title('Accuracy Graph')\n",
    "axes[0].grid(True)\n",
    " \n",
    "axes[1].plot(epoch_list, all_losses, color='#adad3b', label='Accuracy', linewidth=3)\n",
    "axes[1].set_xlabel('Epochs')\n",
    "axes[1].set_ylabel('Loss')\n",
    "axes[1].set_title('Loss Graph')\n",
    "axes[1].grid(True)\n",
    "\n",
    "plt.tight_layout()\n",
    "plt.show()\n"
   ]
  },
  {
   "cell_type": "code",
   "execution_count": 15,
   "metadata": {},
   "outputs": [
    {
     "name": "stdout",
     "output_type": "stream",
     "text": [
      "Test K-Accuracy: 20.52%\n"
     ]
    }
   ],
   "source": [
    "accuracy = calculate_topk_accuracy(model, test_loader)\n",
    "print(f'Test K-Accuracy: {accuracy * 100:.2f}%')\n"
   ]
  },
  {
   "cell_type": "code",
   "execution_count": 16,
   "metadata": {},
   "outputs": [
    {
     "data": {
      "text/plain": [
       "['stand up your own javascript growth',\n",
       " 'deep learning is the of the future of',\n",
       " 'data cleaning investor data science and',\n",
       " '6 ways to improve your writing',\n",
       " 'you did a writer s']"
      ]
     },
     "execution_count": 16,
     "metadata": {},
     "output_type": "execute_result"
    }
   ],
   "source": [
    "def text_to_numerical_sequence_test(tokenized_text):\n",
    "    tokens_list = []\n",
    "    for token in tokenized_text:\n",
    "        num_token = features_vocab[token] if token in features_vocab.get_itos() else features_vocab['<oov>']\n",
    "        tokens_list.append(num_token)\n",
    "    return tokens_list\n",
    "\n",
    "def use_model(input_list):\n",
    "    model.eval()\n",
    "    output_list = []\n",
    "    for data in input_test:\n",
    "        sentence = data[0]\n",
    "        num_words = data[1]\n",
    "        for i in range(num_words):\n",
    "            output_of_model = []\n",
    "            tokenized_input_test = tokenizer(sentence)\n",
    "            tokenized_sequence_input_test = text_to_numerical_sequence_test(tokenized_input_test)\n",
    "            padded_tokenized_sequence_input_test = F.pad(torch.tensor(tokenized_sequence_input_test),\n",
    "                                                         (longest_sequence_feature - len(tokenized_sequence_input_test)-1, 0),\n",
    "                                                         value=0)\n",
    "            output_test_walking = torch.argmax(model(padded_tokenized_sequence_input_test.unsqueeze(0)))\n",
    "            sentence = sentence + ' ' + target_vocab.lookup_token(output_test_walking.item()) # type: ignore\n",
    "        output_list.append(sentence)\n",
    "    return output_list\n",
    "\n",
    "input_test = [['stand', 5], ['deep learning is', 5], ['data cleaning', 4], ['6 ways', 4], ['you did a', 2]]\n",
    "outputs_model = use_model(input_test)\n",
    "outputs_model\n"
   ]
  }
 ],
 "metadata": {
  "kernelspec": {
   "display_name": "Python 3",
   "language": "python",
   "name": "python3"
  },
  "language_info": {
   "codemirror_mode": {
    "name": "ipython",
    "version": 3
   },
   "file_extension": ".py",
   "mimetype": "text/x-python",
   "name": "python",
   "nbconvert_exporter": "python",
   "pygments_lexer": "ipython3",
   "version": "3.11.9"
  }
 },
 "nbformat": 4,
 "nbformat_minor": 2
}
